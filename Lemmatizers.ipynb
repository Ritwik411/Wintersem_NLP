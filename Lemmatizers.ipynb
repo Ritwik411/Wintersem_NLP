{
  "nbformat": 4,
  "nbformat_minor": 0,
  "metadata": {
    "colab": {
      "name": "Lemmatizers.ipynb",
      "provenance": [],
      "collapsed_sections": [],
      "authorship_tag": "ABX9TyOyX5b3WpNoyZl2fsl9CqNu",
      "include_colab_link": true
    },
    "kernelspec": {
      "name": "python3",
      "display_name": "Python 3"
    }
  },
  "cells": [
    {
      "cell_type": "markdown",
      "metadata": {
        "id": "view-in-github",
        "colab_type": "text"
      },
      "source": [
        "<a href=\"https://colab.research.google.com/github/Ritwik411/Wintersem_NLP/blob/master/Lemmatizers.ipynb\" target=\"_parent\"><img src=\"https://colab.research.google.com/assets/colab-badge.svg\" alt=\"Open In Colab\"/></a>"
      ]
    },
    {
      "cell_type": "code",
      "metadata": {
        "id": "ogmSN-2QPTCG",
        "colab_type": "code",
        "colab": {}
      },
      "source": [
        "import nltk\n",
        "import numpy as np"
      ],
      "execution_count": 0,
      "outputs": []
    },
    {
      "cell_type": "code",
      "metadata": {
        "id": "zf4VKPx3Pbw1",
        "colab_type": "code",
        "outputId": "a3533980-1f64-4876-873a-65769043336f",
        "colab": {
          "base_uri": "https://localhost:8080/",
          "height": 34
        }
      },
      "source": [
        "len(SnowballStemmer.languages)"
      ],
      "execution_count": 3,
      "outputs": [
        {
          "output_type": "execute_result",
          "data": {
            "text/plain": [
              "16"
            ]
          },
          "metadata": {
            "tags": []
          },
          "execution_count": 3
        }
      ]
    },
    {
      "cell_type": "markdown",
      "metadata": {
        "id": "cq4MrBUWXhTl",
        "colab_type": "text"
      },
      "source": [
        "**How stemmers work with prefixes and the performance of various Stemmers**\n",
        "\n"
      ]
    },
    {
      "cell_type": "code",
      "metadata": {
        "id": "xFK67LanYMeo",
        "colab_type": "code",
        "colab": {}
      },
      "source": [
        "from nltk.stem import SnowballStemmer\n",
        "from nltk.stem import PorterStemmer\n",
        "from nltk.stem import LancasterStemmer\n",
        "from nltk.stem import RegexpStemmer"
      ],
      "execution_count": 0,
      "outputs": []
    },
    {
      "cell_type": "code",
      "metadata": {
        "id": "PqFGLCxLYZEW",
        "colab_type": "code",
        "colab": {}
      },
      "source": [
        "sb = SnowballStemmer('english')\n",
        "ps = PorterStemmer()\n",
        "ls = LancasterStemmer()\n",
        "rs = RegexpStemmer('^un|^re|ing$|s$|ed$|er$',min=4)"
      ],
      "execution_count": 0,
      "outputs": []
    },
    {
      "cell_type": "markdown",
      "metadata": {
        "id": "7Kfh6jTwYycd",
        "colab_type": "text"
      },
      "source": [
        "Errors faced- Snowball and Regexp Stemmers require atleast one input parameter while the other two don't."
      ]
    },
    {
      "cell_type": "code",
      "metadata": {
        "id": "crA4JUFuZC6M",
        "colab_type": "code",
        "colab": {
          "base_uri": "https://localhost:8080/",
          "height": 34
        },
        "outputId": "5e9a1ab7-7475-46aa-a9b8-407f9f81a3f3"
      },
      "source": [
        "print(sb.stem('unwanted'))"
      ],
      "execution_count": 13,
      "outputs": [
        {
          "output_type": "stream",
          "text": [
            "unwant\n"
          ],
          "name": "stdout"
        }
      ]
    },
    {
      "cell_type": "code",
      "metadata": {
        "id": "8KJDaT6EZLMq",
        "colab_type": "code",
        "colab": {
          "base_uri": "https://localhost:8080/",
          "height": 34
        },
        "outputId": "0e3bb5cb-8c95-4717-efd1-bb46b9ab1659"
      },
      "source": [
        "print(ps.stem('unwanted'))"
      ],
      "execution_count": 14,
      "outputs": [
        {
          "output_type": "stream",
          "text": [
            "unwant\n"
          ],
          "name": "stdout"
        }
      ]
    },
    {
      "cell_type": "code",
      "metadata": {
        "id": "iPKzlnwZZQ5K",
        "colab_type": "code",
        "colab": {
          "base_uri": "https://localhost:8080/",
          "height": 34
        },
        "outputId": "3a3453ac-6fe9-4b81-e46b-87d3fa6f26b7"
      },
      "source": [
        "print(ls.stem('unwanted'))"
      ],
      "execution_count": 15,
      "outputs": [
        {
          "output_type": "stream",
          "text": [
            "unw\n"
          ],
          "name": "stdout"
        }
      ]
    },
    {
      "cell_type": "markdown",
      "metadata": {
        "id": "rPidRzt3a1N4",
        "colab_type": "text"
      },
      "source": [
        "**Find where regex works and other fail**"
      ]
    },
    {
      "cell_type": "code",
      "metadata": {
        "id": "Gxxd8wjiZVZy",
        "colab_type": "code",
        "colab": {
          "base_uri": "https://localhost:8080/",
          "height": 34
        },
        "outputId": "629ccc19-2419-4e8e-c336-4799da5bf362"
      },
      "source": [
        "print(rs.stem('unwanted'))"
      ],
      "execution_count": 21,
      "outputs": [
        {
          "output_type": "stream",
          "text": [
            "want\n"
          ],
          "name": "stdout"
        }
      ]
    },
    {
      "cell_type": "markdown",
      "metadata": {
        "id": "6q5UVMSKbeNN",
        "colab_type": "text"
      },
      "source": [
        "As seen above regex can be used for removing prefixes with a little customization"
      ]
    },
    {
      "cell_type": "code",
      "metadata": {
        "id": "ud0HhN2CQL7v",
        "colab_type": "code",
        "colab": {}
      },
      "source": [
        "text = \"\"\"In publishing and graphic design, Lorem ipsum is a placeholder text commonly used to demonstrate the visual form of a document or a typeface without relying on meaningful content. Lorem ipsum may be used before final copy is available, but it may also be used to temporarily replace copy in a process called greeking, which allows designers to consider form without the meaning of the text influencing the design.\n",
        "Lorem ipsum is typically a corrupted version of De finibus bonorum et malorum, a first-century BCE text by Cicero, with words altered, added, and removed to make it nonsensical, improper Latin.\"\"\"\n"
      ],
      "execution_count": 0,
      "outputs": []
    },
    {
      "cell_type": "code",
      "metadata": {
        "id": "N_3phXa1QcaH",
        "colab_type": "code",
        "colab": {
          "base_uri": "https://localhost:8080/",
          "height": 70
        },
        "outputId": "571f0cc2-3b5f-4759-ff70-70d69c22e7e7"
      },
      "source": [
        "from nltk.stem import PorterStemmer\n",
        "stemmer = PorterStemmer()\n",
        "text = [stemmer.stem(token) for token in text.split(\" \")]\n",
        "print(\" \".join(text))"
      ],
      "execution_count": 24,
      "outputs": [
        {
          "output_type": "stream",
          "text": [
            "In publish and graphic design, lorem ipsum is a placehold text commonli use to demonstr the visual form of a document or a typefac without reli on meaning content. lorem ipsum may be use befor final copi is available, but it may also be use to temporarili replac copi in a process call greeking, which allow design to consid form without the mean of the text influenc the design.\n",
            "lorem ipsum is typic a corrupt version of De finibu bonorum et malorum, a first-centuri bce text by cicero, with word altered, added, and remov to make it nonsensical, improp latin.\n"
          ],
          "name": "stdout"
        }
      ]
    },
    {
      "cell_type": "markdown",
      "metadata": {
        "id": "gZbkq7UDb-jn",
        "colab_type": "text"
      },
      "source": [
        "Use Of Lemmatizers"
      ]
    },
    {
      "cell_type": "code",
      "metadata": {
        "id": "NBkwtEx9PdjC",
        "colab_type": "code",
        "colab": {}
      },
      "source": [
        "from nltk.stem import WordNetLemmatizer\n",
        "lemmatizer = WordNetLemmatizer()"
      ],
      "execution_count": 0,
      "outputs": []
    },
    {
      "cell_type": "code",
      "metadata": {
        "id": "Duem_9_vcKtW",
        "colab_type": "code",
        "colab": {}
      },
      "source": [
        "nltk.download('wordnet')"
      ],
      "execution_count": 0,
      "outputs": []
    },
    {
      "cell_type": "markdown",
      "metadata": {
        "id": "XP7xYEmXcNru",
        "colab_type": "text"
      },
      "source": [
        "Error faced - wordnet file needs to be downloaded from NLTK before using word lemmatizer."
      ]
    },
    {
      "cell_type": "code",
      "metadata": {
        "id": "Ayro3bvxP08Y",
        "colab_type": "code",
        "outputId": "ff9b8169-24ee-4ada-a2d8-1eb2d53710ab",
        "colab": {
          "base_uri": "https://localhost:8080/",
          "height": 34
        }
      },
      "source": [
        "print(lemmatizer.lemmatize(\"feet\"))"
      ],
      "execution_count": 32,
      "outputs": [
        {
          "output_type": "stream",
          "text": [
            "foot\n"
          ],
          "name": "stdout"
        }
      ]
    },
    {
      "cell_type": "code",
      "metadata": {
        "id": "9hjbgRsgQHRL",
        "colab_type": "code",
        "outputId": "dd05fd3c-9c0a-43c4-c44c-f0ee94a21189",
        "colab": {
          "base_uri": "https://localhost:8080/",
          "height": 34
        }
      },
      "source": [
        "print(lemmatizer.lemmatize(\"toes\"))"
      ],
      "execution_count": 34,
      "outputs": [
        {
          "output_type": "stream",
          "text": [
            "toe\n"
          ],
          "name": "stdout"
        }
      ]
    },
    {
      "cell_type": "code",
      "metadata": {
        "id": "4laT0e3IRNwy",
        "colab_type": "code",
        "colab": {
          "base_uri": "https://localhost:8080/",
          "height": 1000
        },
        "outputId": "98798e60-96fd-4d7b-8049-0c263195a197"
      },
      "source": [
        "for i in text:\n",
        "  print(lemmatizer.lemmatize(i))"
      ],
      "execution_count": 38,
      "outputs": [
        {
          "output_type": "stream",
          "text": [
            "In\n",
            "publish\n",
            "and\n",
            "graphic\n",
            "design,\n",
            "lorem\n",
            "ipsum\n",
            "is\n",
            "a\n",
            "placehold\n",
            "text\n",
            "commonli\n",
            "use\n",
            "to\n",
            "demonstr\n",
            "the\n",
            "visual\n",
            "form\n",
            "of\n",
            "a\n",
            "document\n",
            "or\n",
            "a\n",
            "typefac\n",
            "without\n",
            "reli\n",
            "on\n",
            "meaning\n",
            "content.\n",
            "lorem\n",
            "ipsum\n",
            "may\n",
            "be\n",
            "use\n",
            "befor\n",
            "final\n",
            "copi\n",
            "is\n",
            "available,\n",
            "but\n",
            "it\n",
            "may\n",
            "also\n",
            "be\n",
            "use\n",
            "to\n",
            "temporarili\n",
            "replac\n",
            "copi\n",
            "in\n",
            "a\n",
            "process\n",
            "call\n",
            "greeking,\n",
            "which\n",
            "allow\n",
            "design\n",
            "to\n",
            "consid\n",
            "form\n",
            "without\n",
            "the\n",
            "mean\n",
            "of\n",
            "the\n",
            "text\n",
            "influenc\n",
            "the\n",
            "design.\n",
            "lorem\n",
            "ipsum\n",
            "is\n",
            "typic\n",
            "a\n",
            "corrupt\n",
            "version\n",
            "of\n",
            "De\n",
            "finibu\n",
            "bonorum\n",
            "et\n",
            "malorum,\n",
            "a\n",
            "first-centuri\n",
            "bce\n",
            "text\n",
            "by\n",
            "cicero,\n",
            "with\n",
            "word\n",
            "altered,\n",
            "added,\n",
            "and\n",
            "remov\n",
            "to\n",
            "make\n",
            "it\n",
            "nonsensical,\n",
            "improp\n",
            "latin.\n"
          ],
          "name": "stdout"
        }
      ]
    },
    {
      "cell_type": "code",
      "metadata": {
        "id": "2fZreTs1SsTO",
        "colab_type": "code",
        "colab": {}
      },
      "source": [
        "from sklearn.feature_extraction.text import CountVectorizer"
      ],
      "execution_count": 0,
      "outputs": []
    },
    {
      "cell_type": "code",
      "metadata": {
        "id": "xUx0CoTcThWq",
        "colab_type": "code",
        "colab": {}
      },
      "source": [
        "vectorizer = CountVectorizer()"
      ],
      "execution_count": 0,
      "outputs": []
    },
    {
      "cell_type": "code",
      "metadata": {
        "id": "AmoQKqC7Tmf3",
        "colab_type": "code",
        "outputId": "76833539-c78d-40df-cb4a-956effd208c0",
        "colab": {
          "base_uri": "https://localhost:8080/",
          "height": 54
        }
      },
      "source": [
        "x = vectorizer.fit_transform(text)\n",
        "print(vectorizer.get_feature_names())\n"
      ],
      "execution_count": 0,
      "outputs": [
        {
          "output_type": "stream",
          "text": [
            "['added', 'allow', 'also', 'altered', 'and', 'available', 'bce', 'be', 'befor', 'bonorum', 'but', 'by', 'call', 'centuri', 'cicero', 'commonli', 'consid', 'content', 'copi', 'corrupt', 'de', 'demonstr', 'design', 'document', 'et', 'final', 'finibu', 'first', 'form', 'graphic', 'greeking', 'improp', 'in', 'influenc', 'ipsum', 'is', 'it', 'latin', 'lorem', 'make', 'malorum', 'may', 'mean', 'meaning', 'nonsensical', 'of', 'on', 'or', 'placehold', 'process', 'publish', 'reli', 'remov', 'replac', 'temporarili', 'text', 'the', 'to', 'typefac', 'typic', 'use', 'version', 'visual', 'which', 'with', 'without', 'word']\n"
          ],
          "name": "stdout"
        }
      ]
    },
    {
      "cell_type": "code",
      "metadata": {
        "id": "0bXZo4ICTs3d",
        "colab_type": "code",
        "colab": {}
      },
      "source": [
        ""
      ],
      "execution_count": 0,
      "outputs": []
    }
  ]
}